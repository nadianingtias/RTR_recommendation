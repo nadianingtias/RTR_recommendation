{
 "cells": [
  {
   "cell_type": "code",
   "execution_count": 141,
   "metadata": {},
   "outputs": [],
   "source": [
    "import numpy as np\n",
    "import pandas as pd\n",
    "import matplotlib.pyplot as plt\n",
    "import seaborn as sb\n",
    "import re\n",
    "\n",
    "from sklearn.feature_extraction.text import CountVectorizer\n",
    "\n",
    "import pymongo\n",
    "\n",
    "from sklearn import preprocessing\n",
    "from sklearn.model_selection import train_test_split\n",
    "from sklearn import metrics\n",
    "\n",
    "from wordcloud import WordCloud,STOPWORDS \n",
    "\n",
    "# SETTING\n",
    "plt.style.use('ggplot')\n",
    "#display maximum column and rows\n",
    "pd.options.display.max_columns = 999\n",
    "pd.options.display.min_rows = 999\n",
    "pd.options.display.max_colwidth = 500\n",
    "stopword = STOPWORDS\n",
    "stopword.add('im')\n",
    "stopword.add('youre')\n",
    "\n",
    "\n",
    "red = '#ef4b4b'\n",
    "black = '#584b42'\n",
    "green = '#a0cc78'\n",
    "yellow_ = '#f6d365'\n",
    "blue_ = '#49beb7'\n",
    "\n",
    "#INIT\n",
    "\n",
    "\n",
    "#METHODS\n",
    "def sep():\n",
    "    print(100*'-')\n",
    "\n",
    "def connectMongoDB(dbname):\n",
    "    client = pymongo.MongoClient('localhost', 27017)\n",
    "    db = client[dbname]\n",
    "    return db\n",
    "\n",
    "dbname = 'clothing_fit'\n",
    "db = connectMongoDB(dbname)"
   ]
  },
  {
   "cell_type": "code",
   "execution_count": 140,
   "metadata": {
    "collapsed": true,
    "jupyter": {
     "outputs_hidden": true
    }
   },
   "outputs": [
    {
     "data": {
      "text/html": [
       "<div>\n",
       "<style scoped>\n",
       "    .dataframe tbody tr th:only-of-type {\n",
       "        vertical-align: middle;\n",
       "    }\n",
       "\n",
       "    .dataframe tbody tr th {\n",
       "        vertical-align: top;\n",
       "    }\n",
       "\n",
       "    .dataframe thead th {\n",
       "        text-align: right;\n",
       "    }\n",
       "</style>\n",
       "<table border=\"1\" class=\"dataframe\">\n",
       "  <thead>\n",
       "    <tr style=\"text-align: right;\">\n",
       "      <th></th>\n",
       "      <th>_id</th>\n",
       "      <th>fit</th>\n",
       "      <th>user_id</th>\n",
       "      <th>bust size</th>\n",
       "      <th>item_id</th>\n",
       "      <th>weight</th>\n",
       "      <th>rating</th>\n",
       "      <th>rented for</th>\n",
       "      <th>review_text</th>\n",
       "      <th>body type</th>\n",
       "      <th>review_summary</th>\n",
       "      <th>category</th>\n",
       "      <th>height</th>\n",
       "      <th>size</th>\n",
       "      <th>age</th>\n",
       "      <th>review_date</th>\n",
       "      <th>sentiment_</th>\n",
       "      <th>height_cm</th>\n",
       "      <th>weight_kg</th>\n",
       "      <th>age_</th>\n",
       "      <th>review_date_</th>\n",
       "      <th>sentiment_summary</th>\n",
       "      <th>sentiment_text</th>\n",
       "    </tr>\n",
       "  </thead>\n",
       "  <tbody>\n",
       "    <tr>\n",
       "      <th>0</th>\n",
       "      <td>5e2ab8ce9f84980caca61bf7</td>\n",
       "      <td>fit</td>\n",
       "      <td>420272</td>\n",
       "      <td>34d</td>\n",
       "      <td>2260466</td>\n",
       "      <td>137lbs</td>\n",
       "      <td>10.0</td>\n",
       "      <td>vacation</td>\n",
       "      <td>An adorable romper! Belt and zipper were a little hard to navigate in a full day of wear/bathroom use, but that's to be expected. Wish it had pockets, but other than that-- absolutely perfect! I got a million compliments.</td>\n",
       "      <td>hourglass</td>\n",
       "      <td>So many compliments!</td>\n",
       "      <td>romper</td>\n",
       "      <td>5' 8\"</td>\n",
       "      <td>14</td>\n",
       "      <td>28</td>\n",
       "      <td>April 20, 2016</td>\n",
       "      <td>positive</td>\n",
       "      <td>173.0</td>\n",
       "      <td>62.0</td>\n",
       "      <td>28.0</td>\n",
       "      <td>2016-04-20</td>\n",
       "      <td>positive</td>\n",
       "      <td>positive</td>\n",
       "    </tr>\n",
       "  </tbody>\n",
       "</table>\n",
       "</div>"
      ],
      "text/plain": [
       "                        _id  fit user_id bust size  item_id  weight  rating  \\\n",
       "0  5e2ab8ce9f84980caca61bf7  fit  420272       34d  2260466  137lbs    10.0   \n",
       "\n",
       "  rented for  \\\n",
       "0   vacation   \n",
       "\n",
       "                                                                                                                                                                                                                     review_text  \\\n",
       "0  An adorable romper! Belt and zipper were a little hard to navigate in a full day of wear/bathroom use, but that's to be expected. Wish it had pockets, but other than that-- absolutely perfect! I got a million compliments.   \n",
       "\n",
       "   body type        review_summary category height  size age     review_date  \\\n",
       "0  hourglass  So many compliments!   romper  5' 8\"    14  28  April 20, 2016   \n",
       "\n",
       "  sentiment_  height_cm  weight_kg  age_ review_date_ sentiment_summary  \\\n",
       "0   positive      173.0       62.0  28.0   2016-04-20          positive   \n",
       "\n",
       "  sentiment_text  \n",
       "0       positive  "
      ]
     },
     "execution_count": 140,
     "metadata": {},
     "output_type": "execute_result"
    }
   ],
   "source": [
    "rent = list(db.rentCollection.find())\n",
    "df_rent = pd.DataFrame(rent)\n",
    "\n",
    "# MENGECEK NULL\n",
    "df_rent.head(1)"
   ]
  },
  {
   "cell_type": "markdown",
   "metadata": {},
   "source": [
    "# Rating Feedback Analysis\n",
    "- salah satu score yang akan digunakan adalah rating\n",
    "- akan dilakukan analisa berdasarkan feedback rating terlebih dahulu"
   ]
  },
  {
   "cell_type": "code",
   "execution_count": 142,
   "metadata": {},
   "outputs": [
    {
     "data": {
      "text/html": [
       "<div>\n",
       "<style scoped>\n",
       "    .dataframe tbody tr th:only-of-type {\n",
       "        vertical-align: middle;\n",
       "    }\n",
       "\n",
       "    .dataframe tbody tr th {\n",
       "        vertical-align: top;\n",
       "    }\n",
       "\n",
       "    .dataframe thead th {\n",
       "        text-align: right;\n",
       "    }\n",
       "</style>\n",
       "<table border=\"1\" class=\"dataframe\">\n",
       "  <thead>\n",
       "    <tr style=\"text-align: right;\">\n",
       "      <th></th>\n",
       "      <th>fit</th>\n",
       "      <th>sentiment_</th>\n",
       "      <th>review_summary</th>\n",
       "    </tr>\n",
       "  </thead>\n",
       "  <tbody>\n",
       "    <tr>\n",
       "      <th>10847</th>\n",
       "      <td>fit</td>\n",
       "      <td>positive</td>\n",
       "      <td>Perfect NYE dress</td>\n",
       "    </tr>\n",
       "    <tr>\n",
       "      <th>11379</th>\n",
       "      <td>fit</td>\n",
       "      <td>positive</td>\n",
       "      <td>New Years glitter</td>\n",
       "    </tr>\n",
       "    <tr>\n",
       "      <th>13205</th>\n",
       "      <td>fit</td>\n",
       "      <td>positive</td>\n",
       "      <td>Felt Like A Princess</td>\n",
       "    </tr>\n",
       "  </tbody>\n",
       "</table>\n",
       "</div>"
      ],
      "text/plain": [
       "       fit sentiment_        review_summary\n",
       "10847  fit   positive     Perfect NYE dress\n",
       "11379  fit   positive     New Years glitter\n",
       "13205  fit   positive  Felt Like A Princess"
      ]
     },
     "execution_count": 142,
     "metadata": {},
     "output_type": "execute_result"
    }
   ],
   "source": [
    "df_rent[df_rent['rating'].isnull()][['fit','sentiment_', 'review_summary']]\n",
    "# karena 3 data null mendapat feedback positif (fit == fit dan sentiment == positif) -> sempurna "
   ]
  },
  {
   "cell_type": "code",
   "execution_count": 143,
   "metadata": {},
   "outputs": [
    {
     "name": "stdout",
     "output_type": "stream",
     "text": [
      "0    10.0\n",
      "dtype: float64\n",
      "9.091789852177387\n",
      "10.0\n"
     ]
    }
   ],
   "source": [
    "print(df_rent.rating.mode())\n",
    "print(df_rent.rating.mean())\n",
    "print(df_rent.rating.quantile(0.5))"
   ]
  },
  {
   "cell_type": "code",
   "execution_count": 147,
   "metadata": {},
   "outputs": [
    {
     "name": "stdout",
     "output_type": "stream",
     "text": [
      "banyak data :  20027\n",
      "----------------------------------------------------------------------------------------------------\n",
      "angka null di rating :\n"
     ]
    },
    {
     "data": {
      "text/plain": [
       "0"
      ]
     },
     "execution_count": 147,
     "metadata": {},
     "output_type": "execute_result"
    }
   ],
   "source": [
    "# mereplace null dengan angka 10 -> modus dan median + analisa feedback yang positif\n",
    "\n",
    "df_rent.rating = df_rent.rating.fillna(10)\n",
    "print(\"banyak data : \", len(df_rent))\n",
    "sep()\n",
    "print(\"angka null di rating :\")\n",
    "df_rent['rating'].isnull().sum()"
   ]
  },
  {
   "cell_type": "code",
   "execution_count": 22,
   "metadata": {
    "collapsed": true,
    "jupyter": {
     "outputs_hidden": true
    }
   },
   "outputs": [
    {
     "data": {
      "text/html": [
       "<div>\n",
       "<style scoped>\n",
       "    .dataframe tbody tr th:only-of-type {\n",
       "        vertical-align: middle;\n",
       "    }\n",
       "\n",
       "    .dataframe tbody tr th {\n",
       "        vertical-align: top;\n",
       "    }\n",
       "\n",
       "    .dataframe thead th {\n",
       "        text-align: right;\n",
       "    }\n",
       "</style>\n",
       "<table border=\"1\" class=\"dataframe\">\n",
       "  <thead>\n",
       "    <tr style=\"text-align: right;\">\n",
       "      <th></th>\n",
       "      <th>_id</th>\n",
       "      <th>fit</th>\n",
       "      <th>user_id</th>\n",
       "      <th>bust size</th>\n",
       "      <th>item_id</th>\n",
       "      <th>weight</th>\n",
       "      <th>rating</th>\n",
       "      <th>rented for</th>\n",
       "      <th>review_text</th>\n",
       "      <th>body type</th>\n",
       "      <th>review_summary</th>\n",
       "      <th>category</th>\n",
       "      <th>height</th>\n",
       "      <th>size</th>\n",
       "      <th>age</th>\n",
       "      <th>review_date</th>\n",
       "      <th>sentiment_</th>\n",
       "      <th>height_cm</th>\n",
       "      <th>weight_kg</th>\n",
       "      <th>age_</th>\n",
       "      <th>review_date_</th>\n",
       "      <th>sentiment_summary</th>\n",
       "      <th>sentiment_text</th>\n",
       "    </tr>\n",
       "  </thead>\n",
       "  <tbody>\n",
       "    <tr>\n",
       "      <th>0</th>\n",
       "      <td>5e2ab8ce9f84980caca61bf7</td>\n",
       "      <td>fit</td>\n",
       "      <td>420272</td>\n",
       "      <td>34d</td>\n",
       "      <td>2260466</td>\n",
       "      <td>137lbs</td>\n",
       "      <td>10.0</td>\n",
       "      <td>vacation</td>\n",
       "      <td>An adorable romper! Belt and zipper were a little hard to navigate in a full day of wear/bathroom use, but that's to be expected. Wish it had pockets, but other than that-- absolutely perfect! I got a million compliments.</td>\n",
       "      <td>hourglass</td>\n",
       "      <td>So many compliments!</td>\n",
       "      <td>romper</td>\n",
       "      <td>5' 8\"</td>\n",
       "      <td>14</td>\n",
       "      <td>28</td>\n",
       "      <td>April 20, 2016</td>\n",
       "      <td>positive</td>\n",
       "      <td>173.0</td>\n",
       "      <td>62.0</td>\n",
       "      <td>28.0</td>\n",
       "      <td>2016-04-20</td>\n",
       "      <td>positive</td>\n",
       "      <td>positive</td>\n",
       "    </tr>\n",
       "  </tbody>\n",
       "</table>\n",
       "</div>"
      ],
      "text/plain": [
       "                        _id  fit user_id bust size  item_id  weight  rating  \\\n",
       "0  5e2ab8ce9f84980caca61bf7  fit  420272       34d  2260466  137lbs    10.0   \n",
       "\n",
       "  rented for  \\\n",
       "0   vacation   \n",
       "\n",
       "                                                                                                                                                                                                                     review_text  \\\n",
       "0  An adorable romper! Belt and zipper were a little hard to navigate in a full day of wear/bathroom use, but that's to be expected. Wish it had pockets, but other than that-- absolutely perfect! I got a million compliments.   \n",
       "\n",
       "   body type        review_summary category height  size age     review_date  \\\n",
       "0  hourglass  So many compliments!   romper  5' 8\"    14  28  April 20, 2016   \n",
       "\n",
       "  sentiment_  height_cm  weight_kg  age_ review_date_ sentiment_summary  \\\n",
       "0   positive      173.0       62.0  28.0   2016-04-20          positive   \n",
       "\n",
       "  sentiment_text  \n",
       "0       positive  "
      ]
     },
     "execution_count": 22,
     "metadata": {},
     "output_type": "execute_result"
    }
   ],
   "source": [
    "df_rent.head(1)"
   ]
  },
  {
   "cell_type": "markdown",
   "metadata": {},
   "source": [
    "### Melihat berapa kali user pernah menyewa pakaian dan Bagaimana Rating Feedback yang diberikan"
   ]
  },
  {
   "cell_type": "code",
   "execution_count": 89,
   "metadata": {
    "collapsed": true,
    "jupyter": {
     "outputs_hidden": true
    }
   },
   "outputs": [
    {
     "data": {
      "text/plain": [
       "1     15603\n",
       "2      1310\n",
       "3       254\n",
       "4       101\n",
       "5        37\n",
       "6        22\n",
       "8         8\n",
       "9         4\n",
       "7         3\n",
       "11        2\n",
       "10        2\n",
       "47        1\n",
       "32        1\n",
       "22        1\n",
       "29        1\n",
       "12        1\n",
       "16        1\n",
       "Name: rented for, dtype: int64"
      ]
     },
     "execution_count": 89,
     "metadata": {},
     "output_type": "execute_result"
    }
   ],
   "source": [
    "df_rent.groupby('user_id').count()['rented for'].value_counts()"
   ]
  },
  {
   "cell_type": "code",
   "execution_count": 99,
   "metadata": {
    "jupyter": {
     "source_hidden": true
    }
   },
   "outputs": [
    {
     "name": "stdout",
     "output_type": "stream",
     "text": [
      "(17352, 1)\n",
      "(17,)\n",
      "(17,)\n"
     ]
    },
    {
     "name": "stderr",
     "output_type": "stream",
     "text": [
      "c:\\users\\nadian\\appdata\\local\\programs\\python\\python37\\lib\\site-packages\\ipykernel_launcher.py:20: MatplotlibDeprecationWarning: Non-1D inputs to pie() are currently squeeze()d, but this behavior is deprecated since 3.1 and will be removed in 3.3; pass a 1D array instead.\n"
     ]
    },
    {
     "data": {
      "image/png": "[encoded data removed]",
      "text/plain": [
       "<Figure size 2000x500 with 3 Axes>"
      ]
     },
     "metadata": {},
     "output_type": "display_data"
    }
   ],
   "source": [
    "user_df = df_rent.groupby('user_id').count()[['rented for']]\n",
    "\n",
    "print(user_df.shape)\n",
    "kali_sewa = user_df['rented for'].value_counts()\n",
    "print(kali_sewa.shape)\n",
    "kali_sewa\n",
    "\n",
    "sums = pd.DataFrame(kali_sewa)\n",
    "sums = sums\n",
    "\n",
    "fig = plt.figure(figsize=(20,5))\n",
    "\n",
    "plt.suptitle('Komposisi Frekuensi User Menyewa Pakaian', fontsize='25', \n",
    "             color=black, \n",
    "            va='center')\n",
    "\n",
    "##### PIE\n",
    "plt.style.use('ggplot')\n",
    "plt.subplot(121)\n",
    "plt.pie(sums, labels=sums.index, autopct='%1.2f%%',colors=[red,yellow_,blue_, green], textprops={'fontsize': 20})\n",
    "#  = ax.pie(frac, colors=colors, labels=labels, autopct='%1.1f%%')\n",
    "# texts[0].set_fontsize(18)\n",
    "\n",
    "#### BAR\n",
    "plt.subplot(122)\n",
    "heights = sums['rented for']\n",
    "print(heights.shape)\n",
    "tick_labels = sums['rented for'].index.tolist()\n",
    "\n",
    "# ax = fig.add_axes([0,0,0,0])\n",
    "plt.bar(range(0, 34, 2), heights)\n",
    "for i, v in enumerate(heights):\n",
    "    plt.text(i*2 - 0.5,v+2 , str(v), color=black, fontsize='12')\n",
    "plt.xlabel('Jumlah sewa')\n",
    "plt.ylabel('Jumlah pelanggan')\n",
    "plt.xticks(range(0,34,2),tick_labels , rotation=45)\n",
    "# print(df_kata.index)\n",
    "lcs, labels = plt.xticks()\n",
    "# print(lcs)\n",
    "\n",
    "plt.style.use('seaborn-whitegrid')\n",
    "# ZOOM IN perbandingan sentiment negatif dan netral\n",
    "ax = fig.add_axes([0.62,0.4,0.3,0.4])\n",
    "plt.bar(range(0, 64, 4), heights[1:])\n",
    "# plt.bar(tick_labels[1:],heights[1:], color=[red,black,])\n",
    "\n",
    "for i, v in enumerate(heights[1:]):\n",
    "    plt.text(i*4,v + 30 , str(v), color=black, fontsize='15')\n",
    "\n",
    "plt.xticks(range(0,64,4),tick_labels[1:] , rotation=45)\n",
    "plt.show()"
   ]
  },
  {
   "cell_type": "markdown",
   "metadata": {},
   "source": [
    "## Hampir 90% user hanya melakukan 1x transaksi dalam data ini (15603 unique users)\n",
    "#### 7.5% user melakukan 2x transaksi\n",
    "#### frekuensi tertinggi mencapai 47 kali sewa"
   ]
  },
  {
   "cell_type": "markdown",
   "metadata": {},
   "source": [
    "\tPenting bagi perusahaan untuk menjaga engagement customer yang sudah setia dengan perusahaan. Ada user yang mencapai 16 kali sewa, 22 kali sewa, 32 kali sewa, hingga 46 kali sewa. Namun dari data yang ada saat ini sebanyak 90% customer hanya/ baru menyewa pakaian sebanyak 1 kali. 7.5 % customer pernah menyewa sebanyak 2x. dan, 2.5% sisanya mencapai 3 kali sewa hingga 46 kali sewa."
   ]
  },
  {
   "cell_type": "markdown",
   "metadata": {},
   "source": [
    "<hr>\n",
    "\n",
    "asumsi user baru adalah user yang baru menyewa 1-2 kali sewa\n",
    "\n",
    "- Bagaimana feedback user baru setelah bertransaksi di RTR ?"
   ]
  },
  {
   "cell_type": "code",
   "execution_count": 152,
   "metadata": {},
   "outputs": [
    {
     "name": "stdout",
     "output_type": "stream",
     "text": [
      "(18223, 23)\n"
     ]
    },
    {
     "data": {
      "text/plain": [
       "10.0    11783\n",
       "8.0      5107\n",
       "6.0       962\n",
       "4.0       289\n",
       "2.0        82\n",
       "Name: rating, dtype: int64"
      ]
     },
     "execution_count": 152,
     "metadata": {},
     "output_type": "execute_result"
    }
   ],
   "source": [
    "new_user_df = user_df[user_df['rented for'] <=2 ]\n",
    "new_user_df = new_user_df.reset_index()\n",
    "\n",
    "new_user_id = list(new_user_df['user_id'])\n",
    "df_rent_newuser = df_rent[df_rent['user_id'].isin(new_user_id)]\n",
    "print(df_rent_newuser.shape) # ada 18223 transaksi dari user baru \n",
    "\n",
    "df_rent_newuser['rating'].value_counts()"
   ]
  },
  {
   "cell_type": "code",
   "execution_count": 150,
   "metadata": {
    "jupyter": {
     "source_hidden": true
    }
   },
   "outputs": [
    {
     "name": "stdout",
     "output_type": "stream",
     "text": [
      "(18223, 23)\n",
      "(5,)\n"
     ]
    },
    {
     "name": "stderr",
     "output_type": "stream",
     "text": [
      "c:\\users\\nadian\\appdata\\local\\programs\\python\\python37\\lib\\site-packages\\ipykernel_launcher.py:17: MatplotlibDeprecationWarning: Non-1D inputs to pie() are currently squeeze()d, but this behavior is deprecated since 3.1 and will be removed in 3.3; pass a 1D array instead.\n"
     ]
    },
    {
     "data": {
      "image/png": "[encoded data removed]",
      "text/plain": [
       "<Figure size 2000x500 with 1 Axes>"
      ]
     },
     "metadata": {},
     "output_type": "display_data"
    }
   ],
   "source": [
    "print(df_rent_newuser.shape)\n",
    "rating_new_user = df_rent_newuser['rating'].value_counts()\n",
    "print(rating_new_user.shape)\n",
    "rating_new_user\n",
    "\n",
    "sums = pd.DataFrame(rating_new_user)\n",
    "sums = sums\n",
    "\n",
    "fig = plt.figure(figsize=(20,5))\n",
    "\n",
    "##### PIE\n",
    "plt.style.use('ggplot')\n",
    "plt.subplot(121)\n",
    "plt.title('Komposisi Frekuensi Rating Pada Customer Baru RTR', fontsize='14', \n",
    "             color=black, \n",
    "            va='center')\n",
    "plt.pie(sums, labels=sums.index, autopct='%1.2f%%',colors=[red,yellow_,blue_, green], textprops={'fontsize': 14})\n",
    "#  = ax.pie(frac, colors=colors, labels=labels, autopct='%1.1f%%')\n",
    "# texts[0].set_fontsize(18)\n",
    "\n",
    "plt.show()"
   ]
  },
  {
   "cell_type": "markdown",
   "metadata": {},
   "source": [
    "<hr>\n",
    "\n",
    "# Popularity Recommender System\n",
    "\n",
    "1. Menentukan variabel yang diukur (rating) -> menunjukkan bahwa pakaian sudah pernah disewa dan diberi feedback, range(0 - 10)\n",
    "2. Meghitung skor weighted rating pada tiap item, berdasarkan feeback yang diperoleh dari customer. \n",
    "3. Sort, item dengan hasil rating tertinggi akan menjadi top rekomendasi.\n",
    "\n",
    "<hr>"
   ]
  },
  {
   "cell_type": "markdown",
   "metadata": {},
   "source": [
    "## Weighted Rating \n",
    "### $$ WR = (\\frac {v}{v+m} . R)+(\\frac {m}{v+m}.C) $$\n",
    "\n",
    "\n",
    "#### - R = rata-rata rating tiap item\n",
    "#### - v = jumlah vote untuk masing2 item\n",
    "#### - C = mean vote dari semua data yang tersedia\n",
    "#### - m = minimum votes yang memenuhi syarat (treshold : persentil ke-90)\n",
    "\n",
    "\n",
    "<hr>"
   ]
  },
  {
   "cell_type": "markdown",
   "metadata": {},
   "source": [
    "# Mencari rata2 rating dari tiap Item Pakaian\n",
    "\n",
    "### Item Pakaian dihitung berdasarkan id item x size, karena masing-masing ukuran akan merepresentasikan kecocokan customer yang berbeda"
   ]
  },
  {
   "cell_type": "code",
   "execution_count": 25,
   "metadata": {},
   "outputs": [
    {
     "data": {
      "text/html": [
       "<div>\n",
       "<style scoped>\n",
       "    .dataframe tbody tr th:only-of-type {\n",
       "        vertical-align: middle;\n",
       "    }\n",
       "\n",
       "    .dataframe tbody tr th {\n",
       "        vertical-align: top;\n",
       "    }\n",
       "\n",
       "    .dataframe thead th {\n",
       "        text-align: right;\n",
       "    }\n",
       "</style>\n",
       "<table border=\"1\" class=\"dataframe\">\n",
       "  <thead>\n",
       "    <tr style=\"text-align: right;\">\n",
       "      <th></th>\n",
       "      <th></th>\n",
       "      <th>rating</th>\n",
       "    </tr>\n",
       "    <tr>\n",
       "      <th>item_id</th>\n",
       "      <th>size</th>\n",
       "      <th></th>\n",
       "    </tr>\n",
       "  </thead>\n",
       "  <tbody>\n",
       "    <tr>\n",
       "      <th rowspan=\"5\" valign=\"top\">1000254</th>\n",
       "      <th>4</th>\n",
       "      <td>10.0</td>\n",
       "    </tr>\n",
       "    <tr>\n",
       "      <th>8</th>\n",
       "      <td>8.0</td>\n",
       "    </tr>\n",
       "    <tr>\n",
       "      <th>12</th>\n",
       "      <td>10.0</td>\n",
       "    </tr>\n",
       "    <tr>\n",
       "      <th>16</th>\n",
       "      <td>10.0</td>\n",
       "    </tr>\n",
       "    <tr>\n",
       "      <th>20</th>\n",
       "      <td>8.0</td>\n",
       "    </tr>\n",
       "    <tr>\n",
       "      <th rowspan=\"5\" valign=\"top\">1000270</th>\n",
       "      <th>1</th>\n",
       "      <td>10.0</td>\n",
       "    </tr>\n",
       "    <tr>\n",
       "      <th>4</th>\n",
       "      <td>10.0</td>\n",
       "    </tr>\n",
       "    <tr>\n",
       "      <th>8</th>\n",
       "      <td>10.0</td>\n",
       "    </tr>\n",
       "    <tr>\n",
       "      <th>12</th>\n",
       "      <td>10.0</td>\n",
       "    </tr>\n",
       "    <tr>\n",
       "      <th>16</th>\n",
       "      <td>6.0</td>\n",
       "    </tr>\n",
       "  </tbody>\n",
       "</table>\n",
       "</div>"
      ],
      "text/plain": [
       "              rating\n",
       "item_id size        \n",
       "1000254 4       10.0\n",
       "        8        8.0\n",
       "        12      10.0\n",
       "        16      10.0\n",
       "        20       8.0\n",
       "1000270 1       10.0\n",
       "        4       10.0\n",
       "        8       10.0\n",
       "        12      10.0\n",
       "        16       6.0"
      ]
     },
     "execution_count": 25,
     "metadata": {},
     "output_type": "execute_result"
    }
   ],
   "source": [
    "df_metadata = df_rent.groupby(['item_id','size']).mean()\n",
    "df_metadata[['rating']].head(10)"
   ]
  },
  {
   "cell_type": "markdown",
   "metadata": {},
   "source": [
    "## Menghitung Jumlah Transaksi pada tiap Items"
   ]
  },
  {
   "cell_type": "code",
   "execution_count": null,
   "metadata": {},
   "outputs": [],
   "source": [
    "df_metadata['vote_count'] = df_rent.groupby(['item_id', 'size']).count()['rating']\n",
    "df_metadata.describe()\n",
    "# df_metadata.shape"
   ]
  },
  {
   "cell_type": "code",
   "execution_count": null,
   "metadata": {},
   "outputs": [],
   "source": [
    "# Calculate C (mean vote dari semua data yang tersedia)\n",
    "\n",
    "C = df_metadata['rating'].mean()\n",
    "print(C)"
   ]
  },
  {
   "cell_type": "markdown",
   "metadata": {},
   "source": [
    "The average rating of items on RTR is around 9, on a scale of 10."
   ]
  },
  {
   "cell_type": "code",
   "execution_count": null,
   "metadata": {},
   "outputs": [],
   "source": [
    "# Calculate the minimum number of votes required to be in the chart, m \n",
    "## persentil ke 90 dari angka vote keseluruhan data\n",
    "\n",
    "m = df_metadata['vote_count'].quantile(0.90)\n",
    "print(m)"
   ]
  },
  {
   "cell_type": "markdown",
   "metadata": {},
   "source": [
    "Next, we can filter the clothes item that qualify for the chart, based on their vote counts:\n",
    "\n",
    "## Memfilter item2 yang memiliki lebih dari angka mininum vote. dalam kasus ini persentil ke 90 = m = 3"
   ]
  },
  {
   "cell_type": "code",
   "execution_count": null,
   "metadata": {},
   "outputs": [],
   "source": [
    "print(\"sebelum filter : \", df_metadata.shape)\n",
    "\n",
    "q_clothes = df_metadata.copy().loc[df_metadata['vote_count'] >= m]\n",
    "print(\"setelah filter : \", q_clothes.shape)"
   ]
  },
  {
   "cell_type": "markdown",
   "metadata": {},
   "source": [
    "- ada 1726 item yang relevan untuk diajukan sebagai rekomendasi karena kepopuleran item.\n",
    "- semua item dalam 1726 data ini sudah memenuhi batas sewa minimum untuk menjadi populer.\n",
    "- item dianggap populer jika telah mencapai batas minimum kepopuleran yang didapat dari angka desil 9 dari data vote yang ada"
   ]
  },
  {
   "cell_type": "code",
   "execution_count": null,
   "metadata": {},
   "outputs": [],
   "source": [
    "q_clothes.head()"
   ]
  },
  {
   "cell_type": "code",
   "execution_count": null,
   "metadata": {},
   "outputs": [],
   "source": [
    "# Function that computes the weighted rating of each clothes\n",
    "\n",
    "def weighted_rating(x, m=m, C=C):\n",
    "    v = x['vote_count']\n",
    "    R = x['rating']\n",
    "    \n",
    "    # Calculation based on the IMDB formula\n",
    "    # jumlah Nvote * rating\n",
    "    return (v/(v+m) * R) + (m/(m+v) * C)"
   ]
  },
  {
   "cell_type": "code",
   "execution_count": null,
   "metadata": {},
   "outputs": [],
   "source": [
    "# Define a new feature 'score' and calculate its value with `weighted_rating()`\n",
    "\n",
    "q_clothes['score'] = q_clothes.apply(weighted_rating, axis=1)\n",
    "q_clothes.head()\n",
    "# q_clothes.shape\n",
    "# q_clothes"
   ]
  },
  {
   "cell_type": "code",
   "execution_count": null,
   "metadata": {},
   "outputs": [],
   "source": [
    "#Sort clothes-items based on score calculated above\n",
    "\n",
    "q_clothes = q_clothes.sort_values('score', ascending=False)\n",
    "q_clothes.tail()"
   ]
  },
  {
   "cell_type": "markdown",
   "metadata": {},
   "source": [
    "ini adalah scorre rating terrendah dari 410 data"
   ]
  },
  {
   "cell_type": "markdown",
   "metadata": {},
   "source": [
    "# Rekomendasi Berdasarkan Rating dan Popularity"
   ]
  },
  {
   "cell_type": "code",
   "execution_count": null,
   "metadata": {},
   "outputs": [],
   "source": [
    "q_clothes.shape"
   ]
  },
  {
   "cell_type": "code",
   "execution_count": null,
   "metadata": {},
   "outputs": [],
   "source": [
    "def getPopRecom(num):\n",
    "    return q_clothes.head(num)\n",
    "\n",
    "getPopRecom(10)"
   ]
  },
  {
   "cell_type": "markdown",
   "metadata": {},
   "source": [
    "done\n",
    "\n",
    "<hr>"
   ]
  },
  {
   "cell_type": "markdown",
   "metadata": {},
   "source": [
    "<hr>\n",
    "\n",
    "## Menyeleksi transaksi dg item yang mencapai persentil 90 ke atas"
   ]
  },
  {
   "cell_type": "code",
   "execution_count": null,
   "metadata": {},
   "outputs": [],
   "source": [
    "df_rent.columns.tolist()"
   ]
  },
  {
   "cell_type": "code",
   "execution_count": null,
   "metadata": {},
   "outputs": [],
   "source": [
    "# membuat df baru untuk memuat transaksi yang memuat item2 terfilter (persentil ke 90)\n",
    "\n",
    "df_reco = pd.DataFrame(columns=df_rent.columns)\n",
    "\n",
    "df_reco"
   ]
  },
  {
   "cell_type": "code",
   "execution_count": null,
   "metadata": {},
   "outputs": [],
   "source": [
    "indexRecoitems = q_clothes.index\n",
    "# print(indexRecoitems)\n",
    "indexRecoitems = (list(indexRecoitems))\n",
    "indexRecoitems = list(map(lambda x : x[0] + \", \"+ str(x[1]) , indexRecoitems))\n",
    "indexRecoitems"
   ]
  },
  {
   "cell_type": "code",
   "execution_count": null,
   "metadata": {},
   "outputs": [],
   "source": [
    "df_rent['item_id_size'] = df_rent['item_id'] + ', ' + df_rent['size'].astype('str')\n",
    "df_rent.head(1)"
   ]
  },
  {
   "cell_type": "code",
   "execution_count": null,
   "metadata": {},
   "outputs": [],
   "source": [
    "# memasukkan transaksi2 yang melibatkan item2 410 rekomendasi di dalam filter\n",
    "\n",
    "for i in indexRecoitems:\n",
    "#     print(df_rent[df_rent['item_id']==i])\n",
    "    print(i)\n",
    "    rekoi = pd.DataFrame(df_rent[df_rent['item_id_size']==i])\n",
    "    print(len(rekoi))\n",
    "    df_reco = pd.concat([df_reco,rekoi], axis=0)\n",
    "    \n",
    "df_reco.shape"
   ]
  },
  {
   "cell_type": "code",
   "execution_count": null,
   "metadata": {},
   "outputs": [],
   "source": [
    "# df_reco ini adalah df yang berisi 9683 data. yaitu data yang terdapat 410 item rekomendasi populer\n",
    "\n",
    "df_reco.shape"
   ]
  },
  {
   "cell_type": "markdown",
   "metadata": {},
   "source": [
    "# ada 8652 transaksi yang telah melibatkan 1726 recommended popular items"
   ]
  },
  {
   "cell_type": "markdown",
   "metadata": {},
   "source": [
    "## Eksport DataFrame yang Memuat 1726 Items (persentil ke-90 ke atas)"
   ]
  },
  {
   "cell_type": "code",
   "execution_count": null,
   "metadata": {},
   "outputs": [],
   "source": [
    "# df_reco.to_csv('df_reco_410_item.csv')\n",
    "df_reco.to_csv('df_reco_1726_item.csv')"
   ]
  },
  {
   "cell_type": "code",
   "execution_count": null,
   "metadata": {},
   "outputs": [],
   "source": [
    "df_reco = pd.read_csv('df_reco_1726_item.csv')\n",
    "\n",
    "print(df_reco.shape)\n",
    "df_reco.isnull().sum()"
   ]
  },
  {
   "cell_type": "code",
   "execution_count": null,
   "metadata": {},
   "outputs": [],
   "source": [
    "# sekilas mengetahui kondisi data body type awal \n",
    "\n",
    "print(\"jumlah unik value : \",df_rent['body type'].nunique())\n",
    "# ada 7, nan tidak dihiitung guys\n",
    "print(df_rent['body type'].isnull().sum())\n",
    "df_rent['body type'].unique().tolist()\n"
   ]
  },
  {
   "cell_type": "markdown",
   "metadata": {},
   "source": [
    "# Body Type"
   ]
  },
  {
   "cell_type": "code",
   "execution_count": null,
   "metadata": {},
   "outputs": [],
   "source": [
    "print(\"jumlah tanpa nan : \",df_reco.groupby('body type').count()[['item_id']].sum()[0])\n",
    "# ada 589 nan body type di dalam data\n",
    "print('jumlah nan : ',df_reco['body type'].isnull().sum())\n",
    "df_reco.groupby('body type').count()[['item_id']]"
   ]
  },
  {
   "cell_type": "code",
   "execution_count": null,
   "metadata": {},
   "outputs": [],
   "source": [
    "# df_reco_bodyshape  merupakan df_reco yang sudah siap untuk dipakai untuk rekomendasi berdasarkan bodyshape\n",
    "\n",
    "df_reco_bodyshape = df_reco.dropna(subset=['body type'])\n",
    "\n",
    "print(\"banyak data : \", len(df_reco_bodyshape))\n",
    "df_reco_bodyshape.isnull().sum()"
   ]
  },
  {
   "cell_type": "markdown",
   "metadata": {},
   "source": [
    "### saat ini ada df_reco_bodyshape -> 9094 data yang siap dijadikan acuan terhadap rekomendasi berdasarkan jenis bentuk badan\n",
    "\n",
    "<hr>\n",
    "<hr>"
   ]
  },
  {
   "cell_type": "markdown",
   "metadata": {},
   "source": [
    "# RENTED FOR"
   ]
  },
  {
   "cell_type": "code",
   "execution_count": null,
   "metadata": {},
   "outputs": [],
   "source": [
    "print(\"jumlah value unik : \", df_rent['rented for'].nunique())\n",
    "sep()\n",
    "print('jumlah mula-mula : ', len(df_reco))\n",
    "print(\"jumlah tanpa nan : \",df_reco.groupby('rented for').count()[['item_id']].sum()[0])\n",
    "print(\"ada nan : \", df_reco['rented for'].isnull().sum() )\n",
    "df_reco.groupby('rented for').count()[['item_id']]"
   ]
  },
  {
   "cell_type": "code",
   "execution_count": null,
   "metadata": {},
   "outputs": [],
   "source": [
    "# mengilangkan nan\n",
    "\n",
    "df_reco_rentedfor = df_reco.dropna(subset=['rented for'])\n",
    "df_reco_rentedfor.shape"
   ]
  },
  {
   "cell_type": "markdown",
   "metadata": {},
   "source": [
    "## df_reco_rentedfor => 9682 data yang siap dijadikan acuan terhadap rekomendasi berdasarkan keperluan menyewa\n",
    "\n",
    "<hr>\n",
    "<hr>"
   ]
  },
  {
   "cell_type": "markdown",
   "metadata": {},
   "source": [
    "# Rented For X Body Type"
   ]
  },
  {
   "cell_type": "code",
   "execution_count": null,
   "metadata": {},
   "outputs": [],
   "source": [
    "print('jumlah mula-mula : ', len(df_reco_bodyshape))\n",
    "print(\"jumlah tanpa nan : \",df_reco_bodyshape.groupby('rented for').count()[['item_id']].sum()[0])\n",
    "print(\"ada nan : \", df_reco_bodyshape['rented for'].isnull().sum() )\n",
    "\n",
    "\n",
    "df_reco_bodyshape.groupby('rented for').count()[['item_id']]"
   ]
  },
  {
   "cell_type": "markdown",
   "metadata": {},
   "source": [
    "# Body Shape x Rented For"
   ]
  },
  {
   "cell_type": "code",
   "execution_count": null,
   "metadata": {},
   "outputs": [],
   "source": [
    "print('jumlah mula-mula : ', len(df_reco_rentedfor))\n",
    "print(\"jumlah tanpa nan : \",df_reco_rentedfor.groupby('body type').count()[['item_id']].sum()[0])\n",
    "print(\"ada nan : \", df_reco_rentedfor['body type'].isnull().sum() )\n",
    "\n",
    "\n",
    "df_reco_rentedfor.groupby('body type').count()[['item_id']]"
   ]
  },
  {
   "cell_type": "code",
   "execution_count": null,
   "metadata": {},
   "outputs": [],
   "source": [
    "# ternyata dibolakbalik sama saja\n",
    "df_reco_bodyshape_rentedfor = df_reco_bodyshape.dropna(subset=['rented for'])\n",
    "df_reco_bodyshape_rentedfor.shape"
   ]
  },
  {
   "cell_type": "markdown",
   "metadata": {},
   "source": [
    "## df_reco_bodyshape_rentedfor => 8139 data yang siap dijadikan acuan terhadap rekomendasi berdasarkan keperluan menyewa dan bentuk badan\n",
    "\n",
    "<hr>\n",
    "<hr>"
   ]
  },
  {
   "cell_type": "markdown",
   "metadata": {},
   "source": [
    "# rating insight"
   ]
  },
  {
   "cell_type": "code",
   "execution_count": null,
   "metadata": {},
   "outputs": [],
   "source": [
    "# sekilas mengetahui kondisi rating type awal \n",
    "\n",
    "print(\"jumlah unik value : \",df_rent['rating'].nunique())"
   ]
  },
  {
   "cell_type": "code",
   "execution_count": null,
   "metadata": {},
   "outputs": [],
   "source": [
    "# melihat kondisi rating\n",
    "\n",
    "df_reco.groupby('rating').count()[['item_id']]\n",
    "# df_reco.head()"
   ]
  },
  {
   "cell_type": "markdown",
   "metadata": {},
   "source": [
    "### Terdapat semua jenis rating di dalam df_reco\n",
    "<hr>"
   ]
  },
  {
   "cell_type": "code",
   "execution_count": null,
   "metadata": {},
   "outputs": [],
   "source": [
    "df_reco_bodyshape_rentedfor.groupby('rating').count()[['item_id']]"
   ]
  },
  {
   "cell_type": "markdown",
   "metadata": {},
   "source": [
    "### Terdapat semua jenis rating juga di dalam df_reco_bodyshape_rentedfor\n",
    "<hr>"
   ]
  },
  {
   "cell_type": "markdown",
   "metadata": {},
   "source": [
    "# category insight"
   ]
  },
  {
   "cell_type": "code",
   "execution_count": null,
   "metadata": {},
   "outputs": [],
   "source": [
    "# sekilas mengetahui kondisi rating type awal \n",
    "\n",
    "print(\"jumlah unik value : \",df_rent['category'].nunique())\n",
    "df_rent['category'].unique()"
   ]
  },
  {
   "cell_type": "code",
   "execution_count": null,
   "metadata": {},
   "outputs": [],
   "source": [
    "# melihat kondisi kategori\n",
    "print(\"kategori yang muncul dalam df_reco : \", len(df_reco.groupby('category')))\n",
    "\n",
    "df_reco.groupby('category').count()[['item_id']]\n",
    "# df_reco.head()"
   ]
  },
  {
   "cell_type": "markdown",
   "metadata": {},
   "source": [
    "# Kategori yang paling Banyak Muncul dalam 1726 top items"
   ]
  },
  {
   "cell_type": "code",
   "execution_count": null,
   "metadata": {},
   "outputs": [],
   "source": [
    "# melihat kondisi kategori\n",
    "print(\"kategori yang muncul dalam df_reco_bodyshape_rentedfor : \", len(df_reco_bodyshape_rentedfor.groupby('category')))\n",
    "\n",
    "df_reco_bodyshape_rentedfor.groupby('category').count()[['item_id']].sort_values('item_id', ascending=False)\n",
    "# df_reco.head()"
   ]
  },
  {
   "cell_type": "markdown",
   "metadata": {},
   "source": [
    "### Dari sini kita mendapatkan hanya ada 26 kategori yang berada dalam item filter rekomendasi 1726 atau yang sudah difilter by \"keberadaan body shape dan rented for\"\n",
    "\n",
    "<hr>\n",
    "<hr>"
   ]
  },
  {
   "cell_type": "code",
   "execution_count": null,
   "metadata": {},
   "outputs": [],
   "source": [
    "df_reco.groupby(['weight_kg']).count()['item_id']\n",
    "df_reco.groupby(['weight_kg']).sum()\n",
    "# df_reco.weight_kg.unique()"
   ]
  },
  {
   "cell_type": "code",
   "execution_count": null,
   "metadata": {},
   "outputs": [],
   "source": [
    "# df_reco.weight_kg.plot.bar()\n",
    "# plt.show()\n",
    "\n",
    "print(\"weight terkecil : \",df_reco.weight_kg.min())\n",
    "print(\"weight terbesar : \",df_reco.weight_kg.max())\n",
    "sep()\n",
    "print(\"Height terkecil : \",df_reco.height_cm.min())\n",
    "print(\"Height terbesar : \",df_reco.height_cm.max())"
   ]
  },
  {
   "cell_type": "code",
   "execution_count": null,
   "metadata": {},
   "outputs": [],
   "source": [
    "plt.figure(figsize=(15,7))\n",
    "\n",
    "plt.subplot(121)\n",
    "plt.title('distribusi weight')\n",
    "df_reco.weight_kg.plot.hist()\n",
    "\n",
    "plt.subplot(122)\n",
    "plt.title('distribusi height')\n",
    "df_reco.height_cm.plot.hist()"
   ]
  },
  {
   "cell_type": "code",
   "execution_count": null,
   "metadata": {},
   "outputs": [],
   "source": [
    "from sklearn.preprocessing import OrdinalEncoder\n",
    "enc = OrdinalEncoder()\n",
    "df_reco['weight_kg'] = df_reco['weight_kg'].fillna(0)\n",
    "enc.fit(df_reco[['weight_kg']])\n",
    "enc.categories_"
   ]
  },
  {
   "cell_type": "code",
   "execution_count": null,
   "metadata": {},
   "outputs": [],
   "source": [
    "df_rent.head()"
   ]
  },
  {
   "cell_type": "code",
   "execution_count": null,
   "metadata": {},
   "outputs": [],
   "source": [
    "# Build Recommendation Based on Body Shape and Categories\n"
   ]
  }
 ],
 "metadata": {
  "kernelspec": {
   "display_name": "Python 3",
   "language": "python",
   "name": "python3"
  },
  "language_info": {
   "codemirror_mode": {
    "name": "ipython",
    "version": 3
   },
   "file_extension": ".py",
   "mimetype": "text/x-python",
   "name": "python",
   "nbconvert_exporter": "python",
   "pygments_lexer": "ipython3",
   "version": "3.7.4"
  }
 },
 "nbformat": 4,
 "nbformat_minor": 4
}
