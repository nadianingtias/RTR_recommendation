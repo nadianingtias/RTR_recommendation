{
 "cells": [
  {
   "cell_type": "code",
   "execution_count": 1,
   "metadata": {
    "jupyter": {
     "source_hidden": true
    }
   },
   "outputs": [],
   "source": [
    "import numpy as np\n",
    "import pandas as pd\n",
    "import matplotlib.pyplot as plt\n",
    "import seaborn as sb\n",
    "import pymongo\n",
    "from sklearn import preprocessing\n",
    "\n",
    "# SETTING\n",
    "plt.style.use('ggplot')\n",
    "#display maximum column and rows\n",
    "pd.options.display.max_columns = 999\n",
    "pd.options.display.max_rows = 999\n",
    "red = '#ef4b4b'\n",
    "black = '#584b42'\n",
    "green = '#a0cc78'\n",
    "yellow_ = '#f6d365'\n",
    "blue_ = '#49beb7'\n",
    "\n",
    "\n",
    "#METHODS\n",
    "def connectMongoDB(dbname):\n",
    "    client = pymongo.MongoClient('localhost', 27017)\n",
    "    db = client[dbname]\n",
    "    return db\n",
    "\n",
    "dbname = 'clothing_fit'\n",
    "db = connectMongoDB(dbname)"
   ]
  },
  {
   "cell_type": "markdown",
   "metadata": {},
   "source": [
    "# Sebelumnya data dalam bentuk JSON sudah diimport ke dalam MongoDB\n",
    "\n",
    "- setting DB lokal \n",
    "        dbname = 'clothing_fit'\n",
    "- nama collection -> rentCollection"
   ]
  },
  {
   "cell_type": "code",
   "execution_count": 2,
   "metadata": {},
   "outputs": [
    {
     "data": {
      "text/html": [
       "<div>\n",
       "<style scoped>\n",
       "    .dataframe tbody tr th:only-of-type {\n",
       "        vertical-align: middle;\n",
       "    }\n",
       "\n",
       "    .dataframe tbody tr th {\n",
       "        vertical-align: top;\n",
       "    }\n",
       "\n",
       "    .dataframe thead th {\n",
       "        text-align: right;\n",
       "    }\n",
       "</style>\n",
       "<table border=\"1\" class=\"dataframe\">\n",
       "  <thead>\n",
       "    <tr style=\"text-align: right;\">\n",
       "      <th></th>\n",
       "      <th>_id</th>\n",
       "      <th>fit</th>\n",
       "      <th>user_id</th>\n",
       "      <th>bust size</th>\n",
       "      <th>item_id</th>\n",
       "      <th>weight</th>\n",
       "      <th>rating</th>\n",
       "      <th>rented for</th>\n",
       "      <th>review_text</th>\n",
       "      <th>body type</th>\n",
       "      <th>review_summary</th>\n",
       "      <th>category</th>\n",
       "      <th>height</th>\n",
       "      <th>size</th>\n",
       "      <th>age</th>\n",
       "      <th>review_date</th>\n",
       "      <th>sentiment_</th>\n",
       "      <th>height_cm</th>\n",
       "      <th>weight_kg</th>\n",
       "      <th>age_</th>\n",
       "      <th>review_date_</th>\n",
       "      <th>sentiment_summary</th>\n",
       "      <th>sentiment_text</th>\n",
       "    </tr>\n",
       "  </thead>\n",
       "  <tbody>\n",
       "    <tr>\n",
       "      <th>0</th>\n",
       "      <td>5e2ab8ce9f84980caca61bf7</td>\n",
       "      <td>fit</td>\n",
       "      <td>420272</td>\n",
       "      <td>34d</td>\n",
       "      <td>2260466</td>\n",
       "      <td>137lbs</td>\n",
       "      <td>10.0</td>\n",
       "      <td>vacation</td>\n",
       "      <td>An adorable romper! Belt and zipper were a lit...</td>\n",
       "      <td>hourglass</td>\n",
       "      <td>So many compliments!</td>\n",
       "      <td>romper</td>\n",
       "      <td>5' 8\"</td>\n",
       "      <td>14</td>\n",
       "      <td>28</td>\n",
       "      <td>April 20, 2016</td>\n",
       "      <td>positive</td>\n",
       "      <td>173.0</td>\n",
       "      <td>62.0</td>\n",
       "      <td>28.0</td>\n",
       "      <td>2016-04-20</td>\n",
       "      <td>positive</td>\n",
       "      <td>positive</td>\n",
       "    </tr>\n",
       "  </tbody>\n",
       "</table>\n",
       "</div>"
      ],
      "text/plain": [
       "                        _id  fit user_id bust size  item_id  weight  rating  \\\n",
       "0  5e2ab8ce9f84980caca61bf7  fit  420272       34d  2260466  137lbs    10.0   \n",
       "\n",
       "  rented for                                        review_text  body type  \\\n",
       "0   vacation  An adorable romper! Belt and zipper were a lit...  hourglass   \n",
       "\n",
       "         review_summary category height  size age     review_date sentiment_  \\\n",
       "0  So many compliments!   romper  5' 8\"    14  28  April 20, 2016   positive   \n",
       "\n",
       "   height_cm  weight_kg  age_ review_date_ sentiment_summary sentiment_text  \n",
       "0      173.0       62.0  28.0   2016-04-20          positive       positive  "
      ]
     },
     "execution_count": 2,
     "metadata": {},
     "output_type": "execute_result"
    }
   ],
   "source": [
    "rent = list(db.rentCollection.find())\n",
    "df_rent = pd.DataFrame(rent)\n",
    "\n",
    "# MENGECEK NULL\n",
    "df_rent.head(1)"
   ]
  },
  {
   "cell_type": "markdown",
   "metadata": {},
   "source": [
    "# Convert Height menjadi Cm\n",
    "\n",
    "Kolom 'Height' memiliki value string yang menyatakan tinggi badan seseorang.\n",
    "5' 8\" -> data ini disimpan dalam satuan kaki + inch\n",
    "\n",
    "oleh karena itu untuk mengolah menjadi angka perlu diubah menjadi numerical data.\n",
    "\n",
    "Di sini saya memakai satuan cm"
   ]
  },
  {
   "cell_type": "code",
   "execution_count": 3,
   "metadata": {},
   "outputs": [],
   "source": [
    "df_rent = df_rent.dropna(subset=['height'])"
   ]
  },
  {
   "cell_type": "code",
   "execution_count": 4,
   "metadata": {},
   "outputs": [
    {
     "data": {
      "text/plain": [
       "_id                     0\n",
       "fit                     0\n",
       "user_id                 0\n",
       "bust size            1885\n",
       "item_id                 0\n",
       "weight               3140\n",
       "rating                  3\n",
       "rented for              0\n",
       "review_text             0\n",
       "body type            1501\n",
       "review_summary          0\n",
       "category                0\n",
       "height                  0\n",
       "size                    0\n",
       "age                   103\n",
       "review_date             0\n",
       "sentiment_              0\n",
       "height_cm               0\n",
       "weight_kg            3140\n",
       "age_                    0\n",
       "review_date_            0\n",
       "sentiment_summary       0\n",
       "sentiment_text          0\n",
       "dtype: int64"
      ]
     },
     "execution_count": 4,
     "metadata": {},
     "output_type": "execute_result"
    }
   ],
   "source": [
    "# CONVERT (FEET INCH) INTO CM (common unit in Indonesia)\n",
    "\n",
    "height_cm = []\n",
    "for i in df_rent['height']:\n",
    "    h_ft = int(i[0])\n",
    "    h_inch = int(i[3])\n",
    "    h_inch += h_ft * 12\n",
    "    h_cm = round(h_inch * 2.54, 0)\n",
    "    \n",
    "    height_cm.append(h_cm)\n",
    "df_rent['height_cm'] = height_cm\n",
    "# df_rent.drop(['height'], axis=1)\n",
    "df_rent.head()\n",
    "df_rent.isnull().sum()"
   ]
  },
  {
   "cell_type": "markdown",
   "metadata": {},
   "source": [
    "# UPDATE height_cm ke MONGODB"
   ]
  },
  {
   "cell_type": "code",
   "execution_count": 67,
   "metadata": {},
   "outputs": [
    {
     "name": "stdout",
     "output_type": "stream",
     "text": [
      "akan update sejumlah :  19951\n"
     ]
    }
   ],
   "source": [
    "# UPDATE DATA DITAMBAH DENGAN DATA height transformed\n",
    "dict_rent_transpose = df_rent.transpose().to_dict()\n",
    "keys = dict_rent_transpose.keys() \n",
    "print(\"akan update sejumlah : \",len(dict_rent_transpose.keys()))\n"
   ]
  },
  {
   "cell_type": "code",
   "execution_count": 68,
   "metadata": {},
   "outputs": [],
   "source": [
    "# UPDATING data di mongodb\n",
    "\n",
    "for i in keys:\n",
    "    old = rent[i]\n",
    "    new = {\"$set\": dict_rent_transpose[i]}\n",
    "    db.rentCollection.update_one(old, new)"
   ]
  },
  {
   "cell_type": "code",
   "execution_count": 69,
   "metadata": {},
   "outputs": [
    {
     "data": {
      "text/plain": [
       "_id                  0\n",
       "fit                  0\n",
       "user_id              0\n",
       "bust size         1901\n",
       "item_id              0\n",
       "weight            3161\n",
       "rating               6\n",
       "rented for           2\n",
       "review_text          0\n",
       "body type         1510\n",
       "review_summary       0\n",
       "category             0\n",
       "height              76\n",
       "size                 0\n",
       "age                103\n",
       "review_date          0\n",
       "sentiment_           0\n",
       "height_cm           76\n",
       "weight_kg         3216\n",
       "dtype: int64"
      ]
     },
     "execution_count": 69,
     "metadata": {},
     "output_type": "execute_result"
    }
   ],
   "source": [
    "# MENGECEK HASIL UPDATE\n",
    "\n",
    "rent = list(db.rentCollection.find())\n",
    "df_rent = pd.DataFrame(rent)\n",
    "\n",
    "# MENGECEK NULL\n",
    "df_rent.isnull().sum()\n"
   ]
  },
  {
   "cell_type": "markdown",
   "metadata": {},
   "source": [
    "# convert weight menjadi KG"
   ]
  },
  {
   "cell_type": "code",
   "execution_count": 5,
   "metadata": {},
   "outputs": [],
   "source": [
    "df_rent = df_rent.dropna(subset=['weight'])"
   ]
  },
  {
   "cell_type": "code",
   "execution_count": 6,
   "metadata": {},
   "outputs": [
    {
     "data": {
      "text/html": [
       "<div>\n",
       "<style scoped>\n",
       "    .dataframe tbody tr th:only-of-type {\n",
       "        vertical-align: middle;\n",
       "    }\n",
       "\n",
       "    .dataframe tbody tr th {\n",
       "        vertical-align: top;\n",
       "    }\n",
       "\n",
       "    .dataframe thead th {\n",
       "        text-align: right;\n",
       "    }\n",
       "</style>\n",
       "<table border=\"1\" class=\"dataframe\">\n",
       "  <thead>\n",
       "    <tr style=\"text-align: right;\">\n",
       "      <th></th>\n",
       "      <th>_id</th>\n",
       "      <th>fit</th>\n",
       "      <th>user_id</th>\n",
       "      <th>bust size</th>\n",
       "      <th>item_id</th>\n",
       "      <th>weight</th>\n",
       "      <th>rating</th>\n",
       "      <th>rented for</th>\n",
       "      <th>review_text</th>\n",
       "      <th>body type</th>\n",
       "      <th>review_summary</th>\n",
       "      <th>category</th>\n",
       "      <th>height</th>\n",
       "      <th>size</th>\n",
       "      <th>age</th>\n",
       "      <th>review_date</th>\n",
       "      <th>sentiment_</th>\n",
       "      <th>height_cm</th>\n",
       "      <th>weight_kg</th>\n",
       "      <th>age_</th>\n",
       "      <th>review_date_</th>\n",
       "      <th>sentiment_summary</th>\n",
       "      <th>sentiment_text</th>\n",
       "    </tr>\n",
       "  </thead>\n",
       "  <tbody>\n",
       "    <tr>\n",
       "      <th>0</th>\n",
       "      <td>5e2ab8ce9f84980caca61bf7</td>\n",
       "      <td>fit</td>\n",
       "      <td>420272</td>\n",
       "      <td>34d</td>\n",
       "      <td>2260466</td>\n",
       "      <td>137lbs</td>\n",
       "      <td>10.0</td>\n",
       "      <td>vacation</td>\n",
       "      <td>An adorable romper! Belt and zipper were a lit...</td>\n",
       "      <td>hourglass</td>\n",
       "      <td>So many compliments!</td>\n",
       "      <td>romper</td>\n",
       "      <td>5' 8\"</td>\n",
       "      <td>14</td>\n",
       "      <td>28</td>\n",
       "      <td>April 20, 2016</td>\n",
       "      <td>positive</td>\n",
       "      <td>173.0</td>\n",
       "      <td>62.0</td>\n",
       "      <td>28.0</td>\n",
       "      <td>2016-04-20</td>\n",
       "      <td>positive</td>\n",
       "      <td>positive</td>\n",
       "    </tr>\n",
       "    <tr>\n",
       "      <th>1</th>\n",
       "      <td>5e2ab8ce9f84980caca61bf8</td>\n",
       "      <td>fit</td>\n",
       "      <td>273551</td>\n",
       "      <td>34b</td>\n",
       "      <td>153475</td>\n",
       "      <td>132lbs</td>\n",
       "      <td>10.0</td>\n",
       "      <td>other</td>\n",
       "      <td>I rented this dress for a photo shoot. The the...</td>\n",
       "      <td>straight &amp; narrow</td>\n",
       "      <td>I felt so glamourous!!!</td>\n",
       "      <td>gown</td>\n",
       "      <td>5' 6\"</td>\n",
       "      <td>12</td>\n",
       "      <td>36</td>\n",
       "      <td>June 18, 2013</td>\n",
       "      <td>positive</td>\n",
       "      <td>168.0</td>\n",
       "      <td>60.0</td>\n",
       "      <td>36.0</td>\n",
       "      <td>2013-06-18</td>\n",
       "      <td>positive</td>\n",
       "      <td>positive</td>\n",
       "    </tr>\n",
       "    <tr>\n",
       "      <th>3</th>\n",
       "      <td>5e2ab8ce9f84980caca61bfa</td>\n",
       "      <td>fit</td>\n",
       "      <td>909926</td>\n",
       "      <td>34c</td>\n",
       "      <td>126335</td>\n",
       "      <td>135lbs</td>\n",
       "      <td>8.0</td>\n",
       "      <td>formal affair</td>\n",
       "      <td>I rented this for my company's black tie award...</td>\n",
       "      <td>pear</td>\n",
       "      <td>Dress arrived on time and in perfect condition.</td>\n",
       "      <td>dress</td>\n",
       "      <td>5' 5\"</td>\n",
       "      <td>8</td>\n",
       "      <td>34</td>\n",
       "      <td>February 12, 2014</td>\n",
       "      <td>positive</td>\n",
       "      <td>165.0</td>\n",
       "      <td>61.0</td>\n",
       "      <td>34.0</td>\n",
       "      <td>2014-02-12</td>\n",
       "      <td>positive</td>\n",
       "      <td>positive</td>\n",
       "    </tr>\n",
       "  </tbody>\n",
       "</table>\n",
       "</div>"
      ],
      "text/plain": [
       "                        _id  fit user_id bust size  item_id  weight  rating  \\\n",
       "0  5e2ab8ce9f84980caca61bf7  fit  420272       34d  2260466  137lbs    10.0   \n",
       "1  5e2ab8ce9f84980caca61bf8  fit  273551       34b   153475  132lbs    10.0   \n",
       "3  5e2ab8ce9f84980caca61bfa  fit  909926       34c   126335  135lbs     8.0   \n",
       "\n",
       "      rented for                                        review_text  \\\n",
       "0       vacation  An adorable romper! Belt and zipper were a lit...   \n",
       "1          other  I rented this dress for a photo shoot. The the...   \n",
       "3  formal affair  I rented this for my company's black tie award...   \n",
       "\n",
       "           body type                                    review_summary  \\\n",
       "0          hourglass                              So many compliments!   \n",
       "1  straight & narrow                           I felt so glamourous!!!   \n",
       "3               pear  Dress arrived on time and in perfect condition.    \n",
       "\n",
       "  category height  size age        review_date sentiment_  height_cm  \\\n",
       "0   romper  5' 8\"    14  28     April 20, 2016   positive      173.0   \n",
       "1     gown  5' 6\"    12  36      June 18, 2013   positive      168.0   \n",
       "3    dress  5' 5\"     8  34  February 12, 2014   positive      165.0   \n",
       "\n",
       "   weight_kg  age_ review_date_ sentiment_summary sentiment_text  \n",
       "0       62.0  28.0   2016-04-20          positive       positive  \n",
       "1       60.0  36.0   2013-06-18          positive       positive  \n",
       "3       61.0  34.0   2014-02-12          positive       positive  "
      ]
     },
     "execution_count": 6,
     "metadata": {},
     "output_type": "execute_result"
    }
   ],
   "source": [
    "# CONVERT POUNDS INTO KG (common unit in Indonesia)\n",
    "\n",
    "df_rent['weight_kg'] = df_rent.weight.apply(lambda x : round(int(x[:-3])*0.45359237,0))\n",
    "df_rent.head(3)"
   ]
  },
  {
   "cell_type": "markdown",
   "metadata": {},
   "source": [
    "# UPDATE weight_kg ke MONGODB"
   ]
  },
  {
   "cell_type": "code",
   "execution_count": 72,
   "metadata": {},
   "outputs": [
    {
     "name": "stdout",
     "output_type": "stream",
     "text": [
      "akan update sejumlah :  16866\n"
     ]
    }
   ],
   "source": [
    "# UPDATE DATA DITAMBAH DENGAN DATA weight  transformed\n",
    "dict_rent_transpose = df_rent.transpose().to_dict()\n",
    "keys = dict_rent_transpose.keys() \n",
    "print(\"akan update sejumlah : \",len(dict_rent_transpose.keys()))\n"
   ]
  },
  {
   "cell_type": "code",
   "execution_count": 73,
   "metadata": {},
   "outputs": [],
   "source": [
    "# UPDATING data di mongodb\n",
    "for i in keys:\n",
    "    old = rent[i]\n",
    "    new = {\"$set\": dict_rent_transpose[i]}\n",
    "    db.rentCollection.update_one(old, new)"
   ]
  },
  {
   "cell_type": "code",
   "execution_count": 74,
   "metadata": {},
   "outputs": [
    {
     "data": {
      "text/plain": [
       "_id                  0\n",
       "fit                  0\n",
       "user_id              0\n",
       "bust size         1901\n",
       "item_id              0\n",
       "weight            3161\n",
       "rating               6\n",
       "rented for           2\n",
       "review_text          0\n",
       "body type         1510\n",
       "review_summary       0\n",
       "category             0\n",
       "height              76\n",
       "size                 0\n",
       "age                103\n",
       "review_date          0\n",
       "sentiment_           0\n",
       "height_cm           76\n",
       "weight_kg         3161\n",
       "dtype: int64"
      ]
     },
     "execution_count": 74,
     "metadata": {},
     "output_type": "execute_result"
    }
   ],
   "source": [
    "# MENGECEK HASIL UPDATE\n",
    "\n",
    "rent = list(db.rentCollection.find())\n",
    "df_rent = pd.DataFrame(rent)\n",
    "\n",
    "# MENGECEK NULL\n",
    "df_rent.isnull().sum()\n"
   ]
  },
  {
   "cell_type": "markdown",
   "metadata": {},
   "source": [
    "\n",
    "# Convert rating into float"
   ]
  },
  {
   "cell_type": "code",
   "execution_count": 88,
   "metadata": {},
   "outputs": [
    {
     "data": {
      "text/plain": [
       "dtype('float64')"
      ]
     },
     "execution_count": 88,
     "metadata": {},
     "output_type": "execute_result"
    }
   ],
   "source": [
    "df_rent['rating'] = df_rent['rating'].astype('float')\n",
    "df_rent['rating']"
   ]
  },
  {
   "cell_type": "markdown",
   "metadata": {},
   "source": [
    "# UPDATE rating float ke MONGODB"
   ]
  },
  {
   "cell_type": "code",
   "execution_count": 89,
   "metadata": {},
   "outputs": [
    {
     "name": "stdout",
     "output_type": "stream",
     "text": [
      "akan update sejumlah :  20027\n"
     ]
    }
   ],
   "source": [
    "# UPDATE DATA DITAMBAH DENGAN DATA rating  transformed\n",
    "dict_rent_transpose = df_rent.transpose().to_dict()\n",
    "keys = dict_rent_transpose.keys() \n",
    "print(\"akan update sejumlah : \",len(dict_rent_transpose.keys()))\n",
    "\n",
    "\n",
    "# UPDATING data di mongodb\n",
    "for i in keys:\n",
    "    old = rent[i]\n",
    "    new = {\"$set\": dict_rent_transpose[i]}\n",
    "    db.rentCollection.update_one(old, new)"
   ]
  },
  {
   "cell_type": "code",
   "execution_count": 95,
   "metadata": {},
   "outputs": [
    {
     "name": "stdout",
     "output_type": "stream",
     "text": [
      "<class 'pandas.core.frame.DataFrame'>\n",
      "RangeIndex: 20027 entries, 0 to 20026\n",
      "Data columns (total 19 columns):\n",
      "_id               20027 non-null object\n",
      "fit               20027 non-null object\n",
      "user_id           20027 non-null object\n",
      "bust size         18126 non-null object\n",
      "item_id           20027 non-null object\n",
      "weight            16866 non-null object\n",
      "rating            20021 non-null float64\n",
      "rented for        20025 non-null object\n",
      "review_text       20027 non-null object\n",
      "body type         18517 non-null object\n",
      "review_summary    20027 non-null object\n",
      "category          20027 non-null object\n",
      "height            19951 non-null object\n",
      "size              20027 non-null int64\n",
      "age               19924 non-null object\n",
      "review_date       20027 non-null object\n",
      "sentiment_        20027 non-null object\n",
      "height_cm         19951 non-null float64\n",
      "weight_kg         16866 non-null float64\n",
      "dtypes: float64(3), int64(1), object(15)\n",
      "memory usage: 2.9+ MB\n"
     ]
    }
   ],
   "source": [
    "# MENGECEK HASIL UPDATE\n",
    "\n",
    "rent = list(db.rentCollection.find())\n",
    "df_rent = pd.DataFrame(rent)\n",
    "\n",
    "# MENGECEK NULL\n",
    "df_rent.isnull().sum()\n",
    "df_rent.info()\n"
   ]
  },
  {
   "cell_type": "markdown",
   "metadata": {},
   "source": [
    "# Transform Kolom age menjadi float"
   ]
  },
  {
   "cell_type": "code",
   "execution_count": 32,
   "metadata": {},
   "outputs": [
    {
     "name": "stdout",
     "output_type": "stream",
     "text": [
      "<class 'pandas.core.frame.DataFrame'>\n",
      "RangeIndex: 20027 entries, 0 to 20026\n",
      "Data columns (total 21 columns):\n",
      "_id               20027 non-null object\n",
      "fit               20027 non-null object\n",
      "user_id           20027 non-null object\n",
      "bust size         18126 non-null object\n",
      "item_id           20027 non-null object\n",
      "weight            16866 non-null object\n",
      "rating            20021 non-null float64\n",
      "rented for        20025 non-null object\n",
      "review_text       20027 non-null object\n",
      "body type         18517 non-null object\n",
      "review_summary    20027 non-null object\n",
      "category          20027 non-null object\n",
      "height            19951 non-null object\n",
      "size              20027 non-null int64\n",
      "age               19924 non-null object\n",
      "review_date       20027 non-null object\n",
      "sentiment_        20027 non-null object\n",
      "height_cm         19951 non-null float64\n",
      "weight_kg         16866 non-null float64\n",
      "review_date_      20027 non-null datetime64[ns]\n",
      "age_              19924 non-null float64\n",
      "dtypes: datetime64[ns](1), float64(4), int64(1), object(15)\n",
      "memory usage: 3.2+ MB\n"
     ]
    }
   ],
   "source": [
    "df_rent['age_'] = df_rent['age'].astype('float')\n",
    "df_rent.info()"
   ]
  },
  {
   "cell_type": "markdown",
   "metadata": {},
   "source": [
    "# Transform Kolom review_date menjadi datetime"
   ]
  },
  {
   "cell_type": "code",
   "execution_count": 9,
   "metadata": {},
   "outputs": [
    {
     "data": {
      "text/plain": [
       "0        April 20, 2016\n",
       "1         June 18, 2013\n",
       "2     December 14, 2015\n",
       "3     February 12, 2014\n",
       "4    September 26, 2016\n",
       "Name: review_date, dtype: object"
      ]
     },
     "execution_count": 9,
     "metadata": {},
     "output_type": "execute_result"
    }
   ],
   "source": [
    "df_rent['review_date'].dtype\n",
    "df_rent['review_date'].head()\n"
   ]
  },
  {
   "cell_type": "code",
   "execution_count": 24,
   "metadata": {},
   "outputs": [
    {
     "data": {
      "text/plain": [
       "datetime.datetime(2015, 12, 14, 0, 0)"
      ]
     },
     "execution_count": 24,
     "metadata": {},
     "output_type": "execute_result"
    }
   ],
   "source": [
    "import datetime\n",
    "\n",
    "date_ = df_rent['review_date'][0]\n",
    "date_ \n",
    "# date_time_str = 'Jun 28, 2018'\n",
    "date_time_str = df_rent['review_date'][2]\n",
    "date_time_obj = datetime.datetime.strptime(date_time_str, '%B %d, %Y')\n",
    "date_time_obj"
   ]
  },
  {
   "cell_type": "code",
   "execution_count": 25,
   "metadata": {},
   "outputs": [
    {
     "name": "stdout",
     "output_type": "stream",
     "text": [
      "Date: 2015-12-14\n",
      "Time: 00:00:00\n",
      "Date-time: 2015-12-14 00:00:00\n"
     ]
    }
   ],
   "source": [
    "print('Date:', date_time_obj.date())\n",
    "print('Time:', date_time_obj.time())\n",
    "print('Date-time:', date_time_obj)"
   ]
  },
  {
   "cell_type": "code",
   "execution_count": 33,
   "metadata": {},
   "outputs": [
    {
     "name": "stdout",
     "output_type": "stream",
     "text": [
      "<class 'pandas.core.frame.DataFrame'>\n",
      "RangeIndex: 20027 entries, 0 to 20026\n",
      "Data columns (total 21 columns):\n",
      "_id               20027 non-null object\n",
      "fit               20027 non-null object\n",
      "user_id           20027 non-null object\n",
      "bust size         18126 non-null object\n",
      "item_id           20027 non-null object\n",
      "weight            16866 non-null object\n",
      "rating            20021 non-null float64\n",
      "rented for        20025 non-null object\n",
      "review_text       20027 non-null object\n",
      "body type         18517 non-null object\n",
      "review_summary    20027 non-null object\n",
      "category          20027 non-null object\n",
      "height            19951 non-null object\n",
      "size              20027 non-null int64\n",
      "age               19924 non-null object\n",
      "review_date       20027 non-null object\n",
      "sentiment_        20027 non-null object\n",
      "height_cm         19951 non-null float64\n",
      "weight_kg         16866 non-null float64\n",
      "review_date_      20027 non-null datetime64[ns]\n",
      "age_              19924 non-null float64\n",
      "dtypes: datetime64[ns](1), float64(4), int64(1), object(15)\n",
      "memory usage: 3.2+ MB\n"
     ]
    }
   ],
   "source": [
    "df_rent['review_date_'] = df_rent['review_date'].apply(lambda x : datetime.datetime.strptime(x, '%B %d, %Y'))\n",
    "df_rent[['review_date', 'review_date_']]\n",
    "\n",
    "df_rent.info()"
   ]
  },
  {
   "cell_type": "markdown",
   "metadata": {},
   "source": [
    "# Update age_ dan review_date_ ke dalam MongoDB"
   ]
  },
  {
   "cell_type": "code",
   "execution_count": 34,
   "metadata": {},
   "outputs": [
    {
     "name": "stdout",
     "output_type": "stream",
     "text": [
      "akan update sejumlah :  20027\n"
     ]
    }
   ],
   "source": [
    "# UPDATE DATA DITAMBAH DENGAN DATA weight  transformed\n",
    "dict_rent_transpose = df_rent.transpose().to_dict()\n",
    "keys = dict_rent_transpose.keys() \n",
    "print(\"akan update sejumlah : \",len(dict_rent_transpose.keys()))\n"
   ]
  },
  {
   "cell_type": "code",
   "execution_count": 35,
   "metadata": {},
   "outputs": [],
   "source": [
    "# UPDATING data di mongodb\n",
    "for i in keys:\n",
    "    old = rent[i]\n",
    "    new = {\"$set\": dict_rent_transpose[i]}\n",
    "    db.rentCollection.update_one(old, new)"
   ]
  },
  {
   "cell_type": "code",
   "execution_count": null,
   "metadata": {},
   "outputs": [],
   "source": [
    "# MENGECEK HASIL UPDATE\n",
    "\n",
    "rent = list(db.rentCollection.find())\n",
    "df_rent = pd.DataFrame(rent)\n",
    "\n",
    "# MENGECEK NULL\n",
    "df_rent.isnull().sum()\n",
    "df_rent.info()\n"
   ]
  }
 ],
 "metadata": {
  "kernelspec": {
   "display_name": "Python 3",
   "language": "python",
   "name": "python3"
  },
  "language_info": {
   "codemirror_mode": {
    "name": "ipython",
    "version": 3
   },
   "file_extension": ".py",
   "mimetype": "text/x-python",
   "name": "python",
   "nbconvert_exporter": "python",
   "pygments_lexer": "ipython3",
   "version": "3.7.4"
  }
 },
 "nbformat": 4,
 "nbformat_minor": 4
}
